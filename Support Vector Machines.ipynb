{
 "cells": [
  {
   "cell_type": "code",
   "execution_count": 1,
   "id": "1d5be0c7",
   "metadata": {},
   "outputs": [],
   "source": [
    "import numpy as np  \n",
    "import matplotlib.pyplot as plt \n",
    "import pandas as pd \n",
    "from sklearn.datasets import load_breast_cancer\n",
    "from sklearn.preprocessing import StandardScaler\n",
    "from sklearn.model_selection import train_test_split\n",
    "from sklearn.svm import SVC\n",
    "from sklearn.metrics import confusion_matrix ,accuracy_score, classification_report "
   ]
  },
  {
   "cell_type": "code",
   "execution_count": 2,
   "id": "cd894744",
   "metadata": {},
   "outputs": [],
   "source": [
    "data_set= load_breast_cancer()"
   ]
  },
  {
   "cell_type": "code",
   "execution_count": 3,
   "id": "a039fd9b",
   "metadata": {},
   "outputs": [],
   "source": [
    "data=data_set.data\n",
    "target=data_set.target\n",
    "features=data_set.feature_names"
   ]
  },
  {
   "cell_type": "code",
   "execution_count": 4,
   "id": "4f4b3803",
   "metadata": {},
   "outputs": [],
   "source": [
    "data_df=pd.DataFrame(data,columns=features)\n",
    "target_df=pd.DataFrame(target,columns=['Target'])"
   ]
  },
  {
   "cell_type": "code",
   "execution_count": 5,
   "id": "fa0d994a",
   "metadata": {},
   "outputs": [],
   "source": [
    "scaler=StandardScaler()\n",
    "scaled_data=scaler.fit_transform(data_df)\n",
    "scaled_data_df=pd.DataFrame(scaled_data,columns=data_df.columns)"
   ]
  },
  {
   "cell_type": "code",
   "execution_count": null,
   "id": "74c5ed40",
   "metadata": {},
   "outputs": [],
   "source": [
    "combined_df=pd.concat([scaled_data_df,target_df],axis=1)\n",
    "combined_df"
   ]
  },
  {
   "cell_type": "code",
   "execution_count": 7,
   "id": "03992700",
   "metadata": {},
   "outputs": [],
   "source": [
    "selected_features = ['mean radius', 'mean fractal dimension']\n",
    "X = combined_df[selected_features]\n",
    "Y=combined_df['Target']"
   ]
  },
  {
   "cell_type": "code",
   "execution_count": 8,
   "id": "ab4dbe23",
   "metadata": {},
   "outputs": [],
   "source": [
    "X_train,X_test,Y_train,Y_test=train_test_split(X,Y, test_size=.2, random_state=42)"
   ]
  },
  {
   "cell_type": "code",
   "execution_count": 9,
   "id": "28a8e56d",
   "metadata": {},
   "outputs": [],
   "source": [
    "svm=SVC(kernel='rbf',C=1.0,gamma='scale')"
   ]
  },
  {
   "cell_type": "code",
   "execution_count": null,
   "id": "15f16859",
   "metadata": {},
   "outputs": [],
   "source": [
    "svm.fit(X_train,Y_train)"
   ]
  },
  {
   "cell_type": "code",
   "execution_count": 11,
   "id": "6b31b8ab",
   "metadata": {},
   "outputs": [],
   "source": [
    "y_pred=svm.predict(X_test)"
   ]
  },
  {
   "cell_type": "code",
   "execution_count": null,
   "id": "5cc19432",
   "metadata": {},
   "outputs": [],
   "source": [
    "accuracy = accuracy_score(Y_test, y_pred)\n",
    "print(f\"Accuracy: {accuracy:.2f}\")"
   ]
  },
  {
   "cell_type": "code",
   "execution_count": null,
   "id": "53ddac36",
   "metadata": {},
   "outputs": [],
   "source": [
    "print(\"Classification Report:\")\n",
    "print(classification_report(Y_test, y_pred))"
   ]
  },
  {
   "cell_type": "code",
   "execution_count": null,
   "id": "ce15355c",
   "metadata": {},
   "outputs": [],
   "source": [
    "cm= confusion_matrix(Y_test, y_pred) \n",
    "print(cm)"
   ]
  },
  {
   "cell_type": "code",
   "execution_count": null,
   "id": "07bad76d",
   "metadata": {
    "scrolled": true
   },
   "outputs": [],
   "source": [
    "# plotting datapoints\n",
    "plt.figure(figsize=(10, 6))\n",
    "plt.scatter(X.iloc[:, 0], X.iloc[:, 1], c=data_set.target, cmap='viridis', s=30)\n",
    "plt.colorbar(label='Malignant or Benign')\n",
    "\n",
    "\n",
    "plt.show()"
   ]
  },
  {
   "cell_type": "code",
   "execution_count": null,
   "id": "15a2b5bc",
   "metadata": {},
   "outputs": [],
   "source": [
    "# plotting the decision boundary\n",
    "plt.figure(figsize=(8, 6))\n",
    "plt.scatter(X.iloc[:, 0], X.iloc[:, 1], c=data_set.target, cmap='viridis', s=30)\n",
    "x_min, x_max = X.iloc[:, 0].min() - 1, X.iloc[:, 0].max() + 1\n",
    "y_min, y_max = X.iloc[:, 1].min() - 1, X.iloc[:, 1].max() + 1\n",
    "xx, yy = np.meshgrid(np.linspace(x_min, x_max, 100), np.linspace(y_min, y_max, 100))\n",
    "Z = svm.predict(np.c_[xx.ravel(), yy.ravel()])\n",
    "Z = Z.reshape(xx.shape)\n",
    "\n",
    "plt.contourf(xx, yy, Z, alpha=0.8, cmap='viridis')\n",
    "\n",
    "plt.show()"
   ]
  }
 ],
 "metadata": {
  "kernelspec": {
   "display_name": "Python 3 (ipykernel)",
   "language": "python",
   "name": "python3"
  },
  "language_info": {
   "codemirror_mode": {
    "name": "ipython",
    "version": 3
   },
   "file_extension": ".py",
   "mimetype": "text/x-python",
   "name": "python",
   "nbconvert_exporter": "python",
   "pygments_lexer": "ipython3",
   "version": "3.11.8"
  }
 },
 "nbformat": 4,
 "nbformat_minor": 5
}
